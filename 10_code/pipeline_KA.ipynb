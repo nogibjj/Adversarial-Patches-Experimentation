{
 "cells": [
  {
   "cell_type": "code",
   "execution_count": 29,
   "metadata": {},
   "outputs": [
    {
     "data": {
      "text/plain": [
       "<module 'utils' from '/workspaces/Adversarial-Patches-Experimentation/10_code/utils.py'>"
      ]
     },
     "execution_count": 29,
     "metadata": {},
     "output_type": "execute_result"
    }
   ],
   "source": [
    "import torch\n",
    "import torchvision\n",
    "import torchvision.transforms as transforms\n",
    "import torch.optim as optim\n",
    "\n",
    "import os\n",
    "import sys\n",
    "import time\n",
    "import math\n",
    "import numpy as np\n",
    "from PIL import Image\n",
    "import matplotlib.pyplot as plt\n",
    "\n",
    "import torch.nn as nn\n",
    "import torch.nn.init as init\n",
    "from torch.autograd import Variable\n",
    "\n",
    "from scipy.ndimage import rotate\n",
    "from pretrained_models.resnet20 import ResNetCIFAR\n",
    "\n",
    "from utils import *\n",
    "from importlib import reload\n",
    "reload(sys.modules['utils'])"
   ]
  },
  {
   "cell_type": "markdown",
   "metadata": {},
   "source": [
    "## Outstanding Questions"
   ]
  },
  {
   "cell_type": "markdown",
   "metadata": {},
   "source": [
    "1. What transformations should we apply to CIFAR-10 clean data?"
   ]
  },
  {
   "cell_type": "markdown",
   "metadata": {},
   "source": [
    "## Obtain CIFAR-10 Clean Data"
   ]
  },
  {
   "cell_type": "code",
   "execution_count": 30,
   "metadata": {},
   "outputs": [],
   "source": [
    "# PARAMS\n",
    "batch_size = 256\n",
    "device = torch.device(\"cuda\" if torch.cuda.is_available() else \"cpu\")\n",
    "patch_size = 0.1\n",
    "target = 1 #automobile"
   ]
  },
  {
   "cell_type": "code",
   "execution_count": 31,
   "metadata": {},
   "outputs": [],
   "source": [
    "# TODO: should we apply the below transformations?\n",
    "transform_train = transforms.Compose([\n",
    "    #transforms.RandomCrop(32, padding=4),\n",
    "    #transforms.RandomHorizontalFlip(),\n",
    "    transforms.ToTensor(),\n",
    "    # transforms.Normalize((0.4914, 0.4822, 0.4465), (0.2023, 0.1994, 0.2010)),\n",
    "])\n",
    "\n",
    "transform_test = transforms.Compose([\n",
    "    transforms.ToTensor(),\n",
    "    #transforms.Normalize((0.4914, 0.4822, 0.4465), (0.2023, 0.1994, 0.2010)),\n",
    "\n",
    "])\n",
    "\n",
    "transform_image = transforms.ToPILImage()"
   ]
  },
  {
   "cell_type": "code",
   "execution_count": 32,
   "metadata": {},
   "outputs": [
    {
     "name": "stdout",
     "output_type": "stream",
     "text": [
      "==> Preparing data..\n",
      "Files already downloaded and verified\n",
      "Files already downloaded and verified\n"
     ]
    }
   ],
   "source": [
    "print('==> Preparing data..')\n",
    "trainset = torchvision.datasets.CIFAR10(root='../00_data', train=True, download=True, transform=transform_train)\n",
    "trainloader = torch.utils.data.DataLoader(trainset, batch_size=batch_size, shuffle=True, num_workers=4)\n",
    "\n",
    "testset = torchvision.datasets.CIFAR10(root='../00_data', train=False, download=True, transform=transform_test)\n",
    "testloader = torch.utils.data.DataLoader(testset, batch_size=100, shuffle=False, num_workers=2)"
   ]
  },
  {
   "cell_type": "code",
   "execution_count": 33,
   "metadata": {},
   "outputs": [
    {
     "data": {
      "text/plain": [
       "<All keys matched successfully>"
      ]
     },
     "execution_count": 33,
     "metadata": {},
     "output_type": "execute_result"
    }
   ],
   "source": [
    "# load the Pre-Trained ResNet-20 model\n",
    "net = ResNetCIFAR(num_layers=20, Nbits=None)\n",
    "net = net.to(device)\n",
    "net.load_state_dict(torch.load(\"./pretrained_models/pretrained_model.pt\"))"
   ]
  },
  {
   "cell_type": "markdown",
   "metadata": {},
   "source": [
    "## Question: what does mean and std mean in this context?\n",
    "1. Why are we only taking one target probability in the attack function in utils.py?"
   ]
  },
  {
   "cell_type": "code",
   "execution_count": 34,
   "metadata": {},
   "outputs": [],
   "source": [
    "# min_in, max_in = 32, 32\n",
    "# min_in, max_in = np.array([min_in, min_in, min_in]), np.array([max_in, max_in, max_in])\n",
    "# #mean, std = 2, np.array(4) \n",
    "# #min_out, max_out = np.min((min_in-mean)/std), np.max((max_in-mean)/std)\n",
    "# min_out, max_out = -1, 1\n",
    "\n",
    "min_in, max_in = 32, 32\n",
    "min_in, max_in = np.array([min_in, min_in, min_in]), np.array([max_in, max_in, max_in])\n",
    "#mean, std = 2, np.array(4) \n",
    "#min_out, max_out = np.min((min_in-mean)/std), np.max((max_in-mean)/std)\n",
    "min_out, max_out = 0, 1"
   ]
  },
  {
   "cell_type": "code",
   "execution_count": 35,
   "metadata": {},
   "outputs": [
    {
     "name": "stdout",
     "output_type": "stream",
     "text": [
      "Epoch:  1\n",
      "Shape of patch:  (256, 3, 10, 10)\n"
     ]
    },
    {
     "ename": "IndexError",
     "evalue": "index 3 is out of bounds for axis 0 with size 3",
     "output_type": "error",
     "traceback": [
      "\u001b[0;31m---------------------------------------------------------------------------\u001b[0m",
      "\u001b[0;31mIndexError\u001b[0m                                Traceback (most recent call last)",
      "Cell \u001b[0;32mIn[35], line 6\u001b[0m\n\u001b[1;32m      4\u001b[0m \u001b[38;5;28mprint\u001b[39m(\u001b[38;5;124m\"\u001b[39m\u001b[38;5;124mEpoch: \u001b[39m\u001b[38;5;124m\"\u001b[39m, epoch)\n\u001b[1;32m      5\u001b[0m \u001b[38;5;28mprint\u001b[39m(\u001b[38;5;124m\"\u001b[39m\u001b[38;5;124mShape of patch: \u001b[39m\u001b[38;5;124m\"\u001b[39m, patch\u001b[38;5;241m.\u001b[39mshape)\n\u001b[0;32m----> 6\u001b[0m patch \u001b[38;5;241m=\u001b[39m \u001b[43mtrain\u001b[49m\u001b[43m(\u001b[49m\n\u001b[1;32m      7\u001b[0m \u001b[43m    \u001b[49m\u001b[43mepoch\u001b[49m\u001b[43m,\u001b[49m\n\u001b[1;32m      8\u001b[0m \u001b[43m    \u001b[49m\u001b[43mpatch\u001b[49m\u001b[43m,\u001b[49m\n\u001b[1;32m      9\u001b[0m \u001b[43m    \u001b[49m\u001b[43mpatch_shape\u001b[49m\u001b[43m,\u001b[49m\n\u001b[1;32m     10\u001b[0m \u001b[43m    \u001b[49m\u001b[43mnet\u001b[49m\u001b[43m,\u001b[49m\n\u001b[1;32m     11\u001b[0m \u001b[43m    \u001b[49m\u001b[43mtrainloader\u001b[49m\u001b[43m,\u001b[49m\n\u001b[1;32m     12\u001b[0m \u001b[43m    \u001b[49m\u001b[43mtarget\u001b[49m\u001b[43m \u001b[49m\u001b[38;5;241;43m=\u001b[39;49m\u001b[43m \u001b[49m\u001b[38;5;241;43m8\u001b[39;49m\u001b[43m \u001b[49m\u001b[43m,\u001b[49m\n\u001b[1;32m     13\u001b[0m \u001b[43m    \u001b[49m\u001b[43mdevice\u001b[49m\u001b[38;5;241;43m=\u001b[39;49m\u001b[43mdevice\u001b[49m\u001b[43m,\u001b[49m\n\u001b[1;32m     14\u001b[0m \u001b[43m    \u001b[49m\u001b[43mpatch_type\u001b[49m\u001b[38;5;241;43m=\u001b[39;49m\u001b[38;5;124;43m\"\u001b[39;49m\u001b[38;5;124;43mcircle\u001b[39;49m\u001b[38;5;124;43m\"\u001b[39;49m\u001b[43m,\u001b[49m\n\u001b[1;32m     15\u001b[0m \u001b[43m    \u001b[49m\u001b[43mimage_size\u001b[49m\u001b[38;5;241;43m=\u001b[39;49m\u001b[38;5;241;43m32\u001b[39;49m\n\u001b[1;32m     16\u001b[0m \u001b[43m\u001b[49m\u001b[43m)\u001b[49m\n\u001b[1;32m     18\u001b[0m test(\n\u001b[1;32m     19\u001b[0m     epoch,\n\u001b[1;32m     20\u001b[0m     patch,\n\u001b[0;32m   (...)\u001b[0m\n\u001b[1;32m     29\u001b[0m     patch_type\u001b[38;5;241m=\u001b[39m\u001b[38;5;124m\"\u001b[39m\u001b[38;5;124mcircle\u001b[39m\u001b[38;5;124m\"\u001b[39m\n\u001b[1;32m     30\u001b[0m )\n",
      "File \u001b[0;32m/workspaces/Adversarial-Patches-Experimentation/10_code/utils.py:464\u001b[0m, in \u001b[0;36mtrain\u001b[0;34m(epoch, patch, patch_shape, netClassifier, train_loader, target, device, patch_type, image_size)\u001b[0m\n\u001b[1;32m    462\u001b[0m \u001b[38;5;66;03m# Depending on the patch type specified (patch_type), transforms the patch and mask accordingly using either a circular or square transformation.\u001b[39;00m\n\u001b[1;32m    463\u001b[0m \u001b[38;5;28;01mif\u001b[39;00m patch_type \u001b[38;5;241m==\u001b[39m \u001b[38;5;124m\"\u001b[39m\u001b[38;5;124mcircle\u001b[39m\u001b[38;5;124m\"\u001b[39m:\n\u001b[0;32m--> 464\u001b[0m     patch, mask, patch_shape \u001b[38;5;241m=\u001b[39m \u001b[43mcircle_transform\u001b[49m\u001b[43m(\u001b[49m\n\u001b[1;32m    465\u001b[0m \u001b[43m        \u001b[49m\u001b[43mpatch\u001b[49m\u001b[43m,\u001b[49m\u001b[43m \u001b[49m\u001b[43mdata_shape\u001b[49m\u001b[43m,\u001b[49m\u001b[43m \u001b[49m\u001b[43mpatch_shape\u001b[49m\u001b[43m,\u001b[49m\u001b[43m \u001b[49m\u001b[43mimage_size\u001b[49m\n\u001b[1;32m    466\u001b[0m \u001b[43m    \u001b[49m\u001b[43m)\u001b[49m\n\u001b[1;32m    467\u001b[0m \u001b[38;5;28;01melif\u001b[39;00m patch_type \u001b[38;5;241m==\u001b[39m \u001b[38;5;124m\"\u001b[39m\u001b[38;5;124msquare\u001b[39m\u001b[38;5;124m\"\u001b[39m:\n\u001b[1;32m    468\u001b[0m     patch, mask \u001b[38;5;241m=\u001b[39m square_transform(patch, data_shape, patch_shape, image_size)\n",
      "File \u001b[0;32m/workspaces/Adversarial-Patches-Experimentation/10_code/utils.py:252\u001b[0m, in \u001b[0;36mcircle_transform\u001b[0;34m(patch, data_shape, patch_shape, image_size, device)\u001b[0m\n\u001b[1;32m    248\u001b[0m \u001b[38;5;66;03m# Rotates the patch randomly using the previously generated rot angle for the specified channel (patch[0][i]) within the patch.\u001b[39;00m\n\u001b[1;32m    249\u001b[0m \u001b[38;5;66;03m##? What does the patch look like - try print(patch[0][i].shape[0])\u001b[39;00m\n\u001b[1;32m    250\u001b[0m \u001b[38;5;28;01mfor\u001b[39;00m j \u001b[38;5;129;01min\u001b[39;00m \u001b[38;5;28mrange\u001b[39m(patch[\u001b[38;5;241m0\u001b[39m][i]\u001b[38;5;241m.\u001b[39mshape[\u001b[38;5;241m0\u001b[39m]):\n\u001b[1;32m    251\u001b[0m     \u001b[38;5;66;03m# patch[0][i] = rotate(patch[0][i], angle=rot, reshape=False)\u001b[39;00m\n\u001b[0;32m--> 252\u001b[0m     patch[i][j] \u001b[38;5;241m=\u001b[39m rotate(\u001b[43mpatch\u001b[49m\u001b[43m[\u001b[49m\u001b[43mi\u001b[49m\u001b[43m]\u001b[49m\u001b[43m[\u001b[49m\u001b[43mj\u001b[49m\u001b[43m]\u001b[49m, angle\u001b[38;5;241m=\u001b[39mrot, reshape\u001b[38;5;241m=\u001b[39m\u001b[38;5;28;01mFalse\u001b[39;00m)\n\u001b[1;32m    253\u001b[0m \u001b[38;5;66;03m# random location\u001b[39;00m\n\u001b[1;32m    254\u001b[0m \u001b[38;5;66;03m# Generates random x and y coordinates within the image size, ensuring that the patch, when placed at these coordinates,\u001b[39;00m\n\u001b[1;32m    255\u001b[0m \u001b[38;5;66;03m#  fits within the dummy image x without exceeding its boundaries.\u001b[39;00m\n\u001b[1;32m    256\u001b[0m random_x \u001b[38;5;241m=\u001b[39m np\u001b[38;5;241m.\u001b[39mrandom\u001b[38;5;241m.\u001b[39mchoice(image_size)\n",
      "\u001b[0;31mIndexError\u001b[0m: index 3 is out of bounds for axis 0 with size 3"
     ]
    }
   ],
   "source": [
    "patch, patch_shape = init_patch_circle(32, patch_size, batch_size)\n",
    "target = 8 #automobile\n",
    "for epoch in range(1, 10):\n",
    "    print(\"Epoch: \", epoch)\n",
    "    print(\"Shape of patch: \", patch.shape)\n",
    "    patch = train(\n",
    "        epoch,\n",
    "        patch,\n",
    "        patch_shape,\n",
    "        net,\n",
    "        trainloader,\n",
    "        target = 8 ,\n",
    "        device=device,\n",
    "        patch_type=\"circle\",\n",
    "        image_size=32\n",
    "    )\n",
    "\n",
    "    test(\n",
    "        epoch,\n",
    "        patch,\n",
    "        patch_shape,\n",
    "        net,\n",
    "        testloader,\n",
    "        target = 8,\n",
    "        image_size = 32,\n",
    "        min_out = 0,\n",
    "        max_out = 1,\n",
    "        device=\"cuda\",\n",
    "        patch_type=\"circle\"\n",
    "    )"
   ]
  },
  {
   "cell_type": "code",
   "execution_count": 77,
   "metadata": {},
   "outputs": [
    {
     "name": "stderr",
     "output_type": "stream",
     "text": [
      "Clipping input data to the valid range for imshow with RGB data ([0..1] for floats or [0..255] for integers).\n"
     ]
    },
    {
     "data": {
      "text/plain": [
       "<matplotlib.image.AxesImage at 0x7fc8d08359c0>"
      ]
     },
     "execution_count": 77,
     "metadata": {},
     "output_type": "execute_result"
    },
    {
     "data": {
      "image/png": "[encoded data removed]",
      "text/plain": [
       "<Figure size 640x480 with 1 Axes>"
      ]
     },
     "metadata": {},
     "output_type": "display_data"
    }
   ],
   "source": [
    "# show patch after training\n",
    "patch_image = patch[0].reshape(10, 10, 3)\n",
    "plt.imshow(patch_image)"
   ]
  },
  {
   "cell_type": "code",
   "execution_count": 27,
   "metadata": {},
   "outputs": [],
   "source": [
    "def patch_application_operator(img_index, patch_path = '../00_data/patches/toaster_patch.png', h = 'center', v = 'center', ratio = 3, rotation = 0):\n",
    "    \"\"\"A Patch Application Operator function to apply a patch along with its transformations\n",
    "      to a CIFAR-10 image given an index in the training / test set.\n",
    "    \n",
    "    Args:\n",
    "        img_index (int): the index of the image in the training / test set\n",
    "        patch_path (str): the path to the patch image\n",
    "        h (str): the horizontal position of the patch (default: 'center') - see mode_to_value keys for possible values\n",
    "        v (str): the vertical position of the patch (default: 'center') - see mode_to_value keys for possible values\n",
    "        ratio (int): the ratio of the patch size to the image size (default: 3). Essentially controls the scale of the image.\n",
    "        rotation (int): the angle of rotation of the patch (default: 0)\n",
    "\n",
    "    Returns:\n",
    "        img (PIL): the image with the patch applied\n",
    "    \n",
    "    \"\"\"\n",
    "\n",
    "    #TODO: add more transformation options for the patch\n",
    "\n",
    "    image = transform_image(trainset[img_index][0])\n",
    "    \n",
    "    patch_image = Image.open(patch_path)\n",
    "    patch_image = patch_image.resize((image.width // ratio, image.height // ratio), Image.Resampling.LANCZOS)\n",
    "    patch_image = patch_image.rotate(rotation)\n",
    "\n",
    "    # map from mode value to a function that returns the correct value position\n",
    "    mode_to_value = {\n",
    "        'left': lambda width, path: 0,\n",
    "        'center_h': lambda width, path: width // 2 - path.width // 2,\n",
    "        'center_v': lambda height, path: height // 2 - path.height // 2, \n",
    "        'right': lambda width, path: width - path.width,\n",
    "        'up': lambda height, path: 0,\n",
    "        'down': lambda height, path: height - path.height,\n",
    "    }\n",
    "\n",
    "    plt.figure(figsize=(2.5, 2.5))\n",
    "    plt.title(\"Original\")\n",
    "    plt.imshow(image)\n",
    "    plt.axis('off')  \n",
    "    plt.show()\n",
    "    \n",
    "\n",
    "    x = mode_to_value[h if h != 'center' else 'center_h'](image.width, patch_image)\n",
    "    y = mode_to_value[v if v != 'center' else 'center_v'](image.height, patch_image)\n",
    "\n",
    "    print(f\"Patch will be placed {h}-{v}\")\n",
    "\n",
    "    image.paste(patch_image, (x, y), mask = patch_image)\n",
    "    \n",
    "    plt.figure(figsize=(2.5, 2.5))\n",
    "    plt.title(\"Patched\")\n",
    "    plt.imshow(image)\n",
    "    plt.axis('off')\n",
    "    plt.show()\n",
    "\n",
    "    # convert image to tensor\n",
    "    image = transform_test(image)\n",
    "    \n",
    "    return image\n"
   ]
  },
  {
   "cell_type": "code",
   "execution_count": 28,
   "metadata": {},
   "outputs": [
    {
     "data": {
      "image/png": "[encoded data removed]",
      "text/plain": [
       "<Figure size 250x250 with 1 Axes>"
      ]
     },
     "metadata": {},
     "output_type": "display_data"
    },
    {
     "name": "stdout",
     "output_type": "stream",
     "text": [
      "Patch will be placed left-up\n"
     ]
    },
    {
     "data": {
      "image/png": "[encoded data removed]",
      "text/plain": [
       "<Figure size 250x250 with 1 Axes>"
      ]
     },
     "metadata": {},
     "output_type": "display_data"
    },
    {
     "data": {
      "text/plain": [
       "tensor([[[1.0000, 1.0000, 1.0000,  ..., 0.9961, 0.9843, 0.9647],\n",
       "         [0.9961, 0.9961, 0.9961,  ..., 0.9882, 0.9765, 0.9569],\n",
       "         [0.9882, 0.9922, 0.8353,  ..., 0.9804, 0.9686, 0.9529],\n",
       "         ...,\n",
       "         [0.6863, 0.6784, 0.6784,  ..., 0.5882, 0.5765, 0.5529],\n",
       "         [0.6863, 0.6784, 0.6745,  ..., 0.5647, 0.5373, 0.5294],\n",
       "         [0.6745, 0.6784, 0.6706,  ..., 0.5765, 0.5412, 0.5020]],\n",
       "\n",
       "        [[1.0000, 1.0000, 1.0000,  ..., 0.9569, 0.9451, 0.9373],\n",
       "         [1.0000, 1.0000, 1.0000,  ..., 0.9490, 0.9373, 0.9294],\n",
       "         [0.9922, 1.0000, 0.4392,  ..., 0.9412, 0.9294, 0.9255],\n",
       "         ...,\n",
       "         [0.6902, 0.6824, 0.6824,  ..., 0.6039, 0.5961, 0.5922],\n",
       "         [0.6902, 0.6824, 0.6784,  ..., 0.5804, 0.5569, 0.5686],\n",
       "         [0.6784, 0.6824, 0.6745,  ..., 0.5922, 0.5608, 0.5373]],\n",
       "\n",
       "        [[1.0000, 1.0000, 1.0000,  ..., 0.9529, 0.9412, 0.9333],\n",
       "         [0.9843, 0.9843, 0.9843,  ..., 0.9451, 0.9333, 0.9216],\n",
       "         [0.9686, 0.9765, 0.6196,  ..., 0.9373, 0.9255, 0.9059],\n",
       "         ...,\n",
       "         [0.6706, 0.6627, 0.6627,  ..., 0.6078, 0.6000, 0.6000],\n",
       "         [0.6706, 0.6627, 0.6588,  ..., 0.5843, 0.5608, 0.5765],\n",
       "         [0.6588, 0.6627, 0.6549,  ..., 0.6000, 0.5647, 0.5451]]])"
      ]
     },
     "execution_count": 28,
     "metadata": {},
     "output_type": "execute_result"
    }
   ],
   "source": [
    "patch_application_operator(240, h = 'left', v = 'up', ratio = 2, rotation = 180)"
   ]
  },
  {
   "cell_type": "markdown",
   "metadata": {},
   "source": [
    "## Train Models on Clean Data"
   ]
  },
  {
   "cell_type": "markdown",
   "metadata": {},
   "source": [
    "### Loading Helper Functions"
   ]
  },
  {
   "cell_type": "code",
   "execution_count": 29,
   "metadata": {},
   "outputs": [],
   "source": [
    "def train(net, epochs, batch_size, lr, reg, \n",
    "          transform_train=transform_train, \n",
    "          transform_test=transform_test, \n",
    "          log_every_n=50, \n",
    "          device = 'cuda' if torch.cuda.is_available() else 'cpu'):\n",
    "    \"\"\"\n",
    "    Training a network\n",
    "    :param net: Network for training\n",
    "    :param epochs: Number of epochs in total.\n",
    "    :param batch_size: Batch size for training.\n",
    "    \"\"\"\n",
    "    print('==> Preparing data..')\n",
    "\n",
    "    best_acc = 0  # best test accuracy\n",
    "    start_epoch = 0  # start from epoch 0 or last checkpoint epoch\n",
    "    trainset = torchvision.datasets.CIFAR10(root='../00_data', train=True, download=True, transform=transform_train)\n",
    "    trainloader = torch.utils.data.DataLoader(trainset, batch_size=batch_size, shuffle=True, num_workers=16)\n",
    "\n",
    "    testset = torchvision.datasets.CIFAR10(root='../00_data', train=False, download=True, transform=transform_test)\n",
    "    testloader = torch.utils.data.DataLoader(testset, batch_size=100, shuffle=False, num_workers=2)\n",
    "\n",
    "    criterion = nn.CrossEntropyLoss()\n",
    "\n",
    "    optimizer = optim.SGD(net.parameters(), lr=lr, momentum=0.875, weight_decay=reg, nesterov=False)\n",
    "    scheduler = optim.lr_scheduler.MultiStepLR(optimizer, milestones=[int(epochs*0.5), int(epochs*0.75)], gamma=0.1)\n",
    "\n",
    "    global_steps = 0\n",
    "    start = time.time()\n",
    "\n",
    "    for epoch in range(start_epoch, epochs):\n",
    "        \"\"\"\n",
    "        Start the training code.\n",
    "        \"\"\"\n",
    "        print('\\nEpoch: %d' % epoch)\n",
    "        net.train()\n",
    "        train_loss = 0\n",
    "        correct = 0\n",
    "        total = 0\n",
    "        for batch_idx, (inputs, targets) in enumerate(trainloader):\n",
    "            inputs, targets = inputs.to(device), targets.to(device)\n",
    "            optimizer.zero_grad()\n",
    "            outputs = net(inputs)\n",
    "            loss = criterion(outputs, targets)\n",
    "            loss.backward()\n",
    "\n",
    "            optimizer.step()\n",
    "            train_loss += loss.item()\n",
    "            _, predicted = outputs.max(1)\n",
    "            total += targets.size(0)\n",
    "            correct += predicted.eq(targets).sum().item()\n",
    "            global_steps += 1\n",
    "\n",
    "            if global_steps % log_every_n == 0:\n",
    "                end = time.time()\n",
    "                num_examples_per_second = log_every_n * batch_size / (end - start)\n",
    "                print(\"[Step=%d]\\tLoss=%.4f\\tacc=%.4f\\t%.1f examples/second\"\n",
    "                      % (global_steps, train_loss / (batch_idx + 1), (correct / total), num_examples_per_second))\n",
    "                start = time.time()\n",
    "\n",
    "        scheduler.step()\n",
    "\n",
    "        \"\"\"\n",
    "        Start the testing code.\n",
    "        \"\"\"\n",
    "        net.eval()\n",
    "        test_loss = 0\n",
    "        correct = 0\n",
    "        total = 0\n",
    "        with torch.no_grad():\n",
    "            for batch_idx, (inputs, targets) in enumerate(testloader):\n",
    "                inputs, targets = inputs.to(device), targets.to(device)\n",
    "                outputs = net(inputs)\n",
    "                loss = criterion(outputs, targets)\n",
    "\n",
    "                test_loss += loss.item()\n",
    "                _, predicted = outputs.max(1)\n",
    "                total += targets.size(0)\n",
    "                correct += predicted.eq(targets).sum().item()\n",
    "        num_val_steps = len(testloader)\n",
    "        val_acc = correct / total\n",
    "        print(\"Test Loss=%.4f, Test acc=%.4f\" % (test_loss / (num_val_steps), val_acc))\n",
    "\n",
    "        if val_acc > best_acc:\n",
    "            best_acc = val_acc\n",
    "            print(\"Saving...\")\n",
    "            torch.save(net.state_dict(), \"pretrained_model.pt\")\n",
    "\n",
    "def test(net, device = 'cuda' if torch.cuda.is_available() else 'cpu'):\n",
    "    transform_test = transforms.Compose([\n",
    "        transforms.ToTensor(),\n",
    "        #transforms.Normalize((0.4914, 0.4822, 0.4465), (0.2023, 0.1994, 0.2010)),\n",
    "\n",
    "    ])\n",
    "\n",
    "    testset = torchvision.datasets.CIFAR10(root='../00_data', train=False, download=True, transform=transform_test)\n",
    "    testloader = torch.utils.data.DataLoader(testset, batch_size=100, shuffle=False, num_workers=2)\n",
    "\n",
    "    classes = ('plane', 'car', 'bird', 'cat', 'deer', 'dog', 'frog', 'horse', 'ship', 'truck')\n",
    "\n",
    "    criterion = nn.CrossEntropyLoss()\n",
    "\n",
    "    net.eval()\n",
    "    test_loss = 0\n",
    "    correct = 0\n",
    "    total = 0\n",
    "    with torch.no_grad():\n",
    "        for batch_idx, (inputs, targets) in enumerate(testloader):\n",
    "            inputs, targets = inputs.to(device), targets.to(device)\n",
    "            outputs = net(inputs)\n",
    "            loss = criterion(outputs, targets)\n",
    "\n",
    "            test_loss += loss.item()\n",
    "            _, predicted = outputs.max(1)\n",
    "            total += targets.size(0)\n",
    "            correct += predicted.eq(targets).sum().item()\n",
    "    num_val_steps = len(testloader)\n",
    "    val_acc = correct / total\n",
    "    print(\"Test Loss=%.4f, Test accuracy=%.4f\" % (test_loss / (num_val_steps), val_acc))\n"
   ]
  },
  {
   "cell_type": "code",
   "execution_count": 16,
   "metadata": {},
   "outputs": [
    {
     "name": "stderr",
     "output_type": "stream",
     "text": [
      "/home/codespace/.python/current/lib/python3.10/site-packages/torchvision/models/_utils.py:208: UserWarning: The parameter 'pretrained' is deprecated since 0.13 and may be removed in the future, please use 'weights' instead.\n",
      "  warnings.warn(\n",
      "/home/codespace/.python/current/lib/python3.10/site-packages/torchvision/models/_utils.py:223: UserWarning: Arguments other than a weight enum or `None` for 'weights' are deprecated since 0.13 and may be removed in the future. The current behavior is equivalent to passing `weights=ResNet18_Weights.IMAGENET1K_V1`. You can also use `weights=ResNet18_Weights.DEFAULT` to get the most up-to-date weights.\n",
      "  warnings.warn(msg)\n",
      "Downloading: \"https://download.pytorch.org/models/resnet18-f37072fd.pth\" to /home/codespace/.cache/torch/hub/checkpoints/resnet18-f37072fd.pth\n",
      "100.0%\n",
      "/home/codespace/.python/current/lib/python3.10/site-packages/torchvision/models/_utils.py:223: UserWarning: Arguments other than a weight enum or `None` for 'weights' are deprecated since 0.13 and may be removed in the future. The current behavior is equivalent to passing `weights=VGG16_Weights.IMAGENET1K_V1`. You can also use `weights=VGG16_Weights.DEFAULT` to get the most up-to-date weights.\n",
      "  warnings.warn(msg)\n",
      "Downloading: \"https://download.pytorch.org/models/vgg16-397923af.pth\" to /home/codespace/.cache/torch/hub/checkpoints/vgg16-397923af.pth\n",
      "100.0%\n",
      "/home/codespace/.python/current/lib/python3.10/site-packages/torchvision/models/_utils.py:223: UserWarning: Arguments other than a weight enum or `None` for 'weights' are deprecated since 0.13 and may be removed in the future. The current behavior is equivalent to passing `weights=DenseNet161_Weights.IMAGENET1K_V1`. You can also use `weights=DenseNet161_Weights.DEFAULT` to get the most up-to-date weights.\n",
      "  warnings.warn(msg)\n",
      "Downloading: \"https://download.pytorch.org/models/densenet161-8d451a50.pth\" to /home/codespace/.cache/torch/hub/checkpoints/densenet161-8d451a50.pth\n",
      "100.0%\n"
     ]
    }
   ],
   "source": [
    "# ResNet, DenseNet and VGG\n",
    "\n",
    "# Load the pretrained model from pytorch - okay this is probably wrong. look into this\n",
    "resnet = torchvision.models.resnet18(pretrained=True)\n",
    "vgg = torchvision.models.vgg16(pretrained=True)\n",
    "densenet = torchvision.models.densenet161(pretrained=True)    "
   ]
  },
  {
   "cell_type": "code",
   "execution_count": 22,
   "metadata": {},
   "outputs": [
    {
     "name": "stdout",
     "output_type": "stream",
     "text": [
      "==> Preparing data..\n",
      "Files already downloaded and verified\n"
     ]
    },
    {
     "name": "stderr",
     "output_type": "stream",
     "text": [
      "/home/codespace/.local/lib/python3.10/site-packages/torch/utils/data/dataloader.py:557: UserWarning: This DataLoader will create 16 worker processes in total. Our suggested max number of worker in current system is 6, which is smaller than what this DataLoader is going to create. Please be aware that excessive worker creation might get DataLoader running slow or even freeze, lower the worker number to avoid potential slowness/freeze if necessary.\n",
      "  warnings.warn(_create_warning_msg(\n"
     ]
    },
    {
     "name": "stdout",
     "output_type": "stream",
     "text": [
      "Files already downloaded and verified\n",
      "\n",
      "Epoch: 0\n"
     ]
    },
    {
     "name": "stderr",
     "output_type": "stream",
     "text": [
      "ERROR: Unexpected bus error encountered in worker. This might be caused by insufficient shared memory (shm).\n",
      "\u0000ERROR: Unexpected bus error encountered in worker. This might be caused by insufficient shared memory (shm).\n",
      "\u0000ERROR: Unexpected bus error encountered in worker. This might be caused by insufficient shared memory (shm).\n",
      "\u0000Traceback (most recent call last):\n",
      "  File \"/home/codespace/.python/current/lib/python3.10/multiprocessing/queues.py\", line 244, in _feed\n",
      "    obj = _ForkingPickler.dumps(obj)\n",
      "  File \"/home/codespace/.python/current/lib/python3.10/multiprocessing/reduction.py\", line 51, in dumps\n",
      "    cls(buf, protocol).dump(obj)\n",
      "  File \"/home/codespace/.local/lib/python3.10/site-packages/torch/multiprocessing/reductions.py\", line 428, in reduce_storage\n",
      "    fd, size = storage._share_fd_cpu_()\n",
      "  File \"/home/codespace/.local/lib/python3.10/site-packages/torch/storage.py\", line 297, in wrapper\n",
      "    return fn(self, *args, **kwargs)\n",
      "  File \"/home/codespace/.local/lib/python3.10/site-packages/torch/storage.py\", line 330, in _share_fd_cpu_\n",
      "    return super()._share_fd_cpu_(*args, **kwargs)\n",
      "RuntimeError: unable to write to file </torch_12044_1703381552_1>: No space left on device (28)\n"
     ]
    },
    {
     "ename": "RuntimeError",
     "evalue": "DataLoader worker (pid 12050) is killed by signal: Bus error. It is possible that dataloader's workers are out of shared memory. Please try to raise your shared memory limit.",
     "output_type": "error",
     "traceback": [
      "\u001b[0;31m---------------------------------------------------------------------------\u001b[0m",
      "\u001b[0;31mRuntimeError\u001b[0m                              Traceback (most recent call last)",
      "Cell \u001b[0;32mIn[22], line 1\u001b[0m\n\u001b[0;32m----> 1\u001b[0m train(resnet, \u001b[39m20\u001b[39;49m, batch_size, lr\u001b[39m=\u001b[39;49m\u001b[39m0.002\u001b[39;49m, reg\u001b[39m=\u001b[39;49m\u001b[39m1e-4\u001b[39;49m)\n",
      "Cell \u001b[0;32mIn[21], line 40\u001b[0m, in \u001b[0;36mtrain\u001b[0;34m(net, epochs, batch_size, lr, reg, transform_train, transform_test, log_every_n, device)\u001b[0m\n\u001b[1;32m     38\u001b[0m total \u001b[39m=\u001b[39m \u001b[39m0\u001b[39m\n\u001b[1;32m     39\u001b[0m \u001b[39mfor\u001b[39;00m batch_idx, (inputs, targets) \u001b[39min\u001b[39;00m \u001b[39menumerate\u001b[39m(trainloader):\n\u001b[0;32m---> 40\u001b[0m     inputs, targets \u001b[39m=\u001b[39m inputs\u001b[39m.\u001b[39;49mto(device), targets\u001b[39m.\u001b[39mto(device)\n\u001b[1;32m     41\u001b[0m     optimizer\u001b[39m.\u001b[39mzero_grad()\n\u001b[1;32m     42\u001b[0m     outputs \u001b[39m=\u001b[39m net(inputs)\n",
      "File \u001b[0;32m~/.local/lib/python3.10/site-packages/torch/utils/data/_utils/signal_handling.py:66\u001b[0m, in \u001b[0;36m_set_SIGCHLD_handler.<locals>.handler\u001b[0;34m(signum, frame)\u001b[0m\n\u001b[1;32m     63\u001b[0m \u001b[39mdef\u001b[39;00m \u001b[39mhandler\u001b[39m(signum, frame):\n\u001b[1;32m     64\u001b[0m     \u001b[39m# This following call uses `waitid` with WNOHANG from C side. Therefore,\u001b[39;00m\n\u001b[1;32m     65\u001b[0m     \u001b[39m# Python can still get and update the process status successfully.\u001b[39;00m\n\u001b[0;32m---> 66\u001b[0m     _error_if_any_worker_fails()\n\u001b[1;32m     67\u001b[0m     \u001b[39mif\u001b[39;00m previous_handler \u001b[39mis\u001b[39;00m \u001b[39mnot\u001b[39;00m \u001b[39mNone\u001b[39;00m:\n\u001b[1;32m     68\u001b[0m         \u001b[39massert\u001b[39;00m \u001b[39mcallable\u001b[39m(previous_handler)\n",
      "\u001b[0;31mRuntimeError\u001b[0m: DataLoader worker (pid 12050) is killed by signal: Bus error. It is possible that dataloader's workers are out of shared memory. Please try to raise your shared memory limit."
     ]
    }
   ],
   "source": [
    "train(resnet, 20, batch_size, lr=0.002, reg=1e-4)"
   ]
  },
  {
   "cell_type": "code",
   "execution_count": null,
   "metadata": {},
   "outputs": [],
   "source": []
  },
  {
   "cell_type": "markdown",
   "metadata": {},
   "source": [
    "## TEST CELLS - IGNORE STUFF BELOW\n"
   ]
  },
  {
   "cell_type": "code",
   "execution_count": 62,
   "metadata": {},
   "outputs": [
    {
     "name": "stdout",
     "output_type": "stream",
     "text": [
      "Path will be placed right-center\n",
      "Image saved at: ../00_data/test_images/banana-patched.jpeg\n"
     ]
    }
   ],
   "source": [
    "h = 'right'\n",
    "v = 'center'\n",
    "ratio = 3\n",
    "\n",
    "PATCH_PATH = '../00_data/patches/toaster_patch.png'\n",
    "src_img = '../00_data/test_images/banana.jpeg'\n",
    "save_path = '../00_data/test_images/banana-patched.jpeg'\n",
    "\n",
    "mode = {\n",
    "    'h': h,\n",
    "    'v': v\n",
    "}\n",
    "\n",
    "print(f\"Path will be placed {mode['h']}-{mode['v']}\")\n",
    "\n",
    "# map from mode value to a function that returns the correct value position\n",
    "mode_to_value = {\n",
    "    'left': lambda width, path: 0,\n",
    "    'center_h': lambda width, path: width // 2 - path.width // 2,\n",
    "    'center_v': lambda height, path: height // 2 - path.height // 2,\n",
    "    'right': lambda width, path: width - path.width,\n",
    "    'up': lambda height, path: 0,\n",
    "    'down': lambda height, path: height - path.height,\n",
    "}\n",
    "\n",
    "def get_position(mode, image, path):\n",
    "    x = mode_to_value[mode['h'] if mode['h'] != 'center' else 'center_h'](image.width, path)\n",
    "    y = mode_to_value[mode['v'] if mode['v'] != 'center' else 'center_v'](image.height, path)\n",
    "    return x, y\n",
    "\n",
    "patch_image = Image.open(PATCH_PATH)\n",
    "src_image = Image.open(src_img)\n",
    "\n",
    "patch_image = patch_image.resize((src_image.width // ratio, src_image.height // ratio), Image.Resampling.LANCZOS)\n",
    "position = get_position(mode, src_image, patch_image)\n",
    "\n",
    "src_image.paste(patch_image, position, mask = patch_image)\n",
    "src_image.save(save_path)\n",
    "\n",
    "print(f\"Image saved at: {save_path}\")"
   ]
  },
  {
   "cell_type": "code",
   "execution_count": null,
   "metadata": {},
   "outputs": [],
   "source": []
  }
 ],
 "metadata": {
  "kernelspec": {
   "display_name": "Python 3",
   "language": "python",
   "name": "python3"
  },
  "language_info": {
   "codemirror_mode": {
    "name": "ipython",
    "version": 3
   },
   "file_extension": ".py",
   "mimetype": "text/x-python",
   "name": "python",
   "nbconvert_exporter": "python",
   "pygments_lexer": "ipython3",
   "version": "3.10.13"
  }
 },
 "nbformat": 4,
 "nbformat_minor": 2
}
